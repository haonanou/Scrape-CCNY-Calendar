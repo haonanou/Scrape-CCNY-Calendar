{
 "cells": [
  {
   "cell_type": "code",
   "execution_count": 1,
   "metadata": {},
   "outputs": [],
   "source": [
    "#Import packages\n",
    "\n",
    "import requests\n",
    "from bs4 import BeautifulSoup as BS\n",
    "import pandas as pd\n",
    "from IPython.display import HTML"
   ]
  },
  {
   "cell_type": "code",
   "execution_count": 2,
   "metadata": {},
   "outputs": [],
   "source": [
    "# Specify url : url\n",
    "\n",
    "url = 'https://www.ccny.cuny.edu/registrar/fall-2018-academic-calendar'"
   ]
  },
  {
   "cell_type": "code",
   "execution_count": 3,
   "metadata": {},
   "outputs": [],
   "source": [
    "# Package the request, send the request and catch the response: r\n",
    "\n",
    "r = requests.get(url)"
   ]
  },
  {
   "cell_type": "code",
   "execution_count": 4,
   "metadata": {},
   "outputs": [
    {
     "data": {
      "text/plain": [
       "200"
      ]
     },
     "execution_count": 4,
     "metadata": {},
     "output_type": "execute_result"
    }
   ],
   "source": [
    "# see the status code that the server returned\n",
    "# returned 200, means your request was successful \n",
    "# and the server responded with the data requesting\n",
    "\n",
    "r.status_code"
   ]
  },
  {
   "cell_type": "code",
   "execution_count": 5,
   "metadata": {},
   "outputs": [],
   "source": [
    "# Create a BeautifulSoup object from the HTML: soup\n",
    "\n",
    "soup = BS(r.text, 'html.parser')"
   ]
  },
  {
   "cell_type": "code",
   "execution_count": 6,
   "metadata": {},
   "outputs": [],
   "source": [
    "# Find all 'table' (which define hyperlinks): all_tables\n",
    "\n",
    "all_tables = soup.find_all('table')"
   ]
  },
  {
   "cell_type": "code",
   "execution_count": 7,
   "metadata": {},
   "outputs": [
    {
     "data": {
      "text/plain": [
       "1"
      ]
     },
     "execution_count": 7,
     "metadata": {},
     "output_type": "execute_result"
    }
   ],
   "source": [
    "len(all_tables)"
   ]
  },
  {
   "cell_type": "code",
   "execution_count": 8,
   "metadata": {},
   "outputs": [
    {
     "data": {
      "text/html": [
       "<table border=\"1\" cellpadding=\"0\" cellspacing=\"0\" style=\"width:647px;\" width=\"809\"><tbody><tr><td style=\"width:134px;\"><p><strong>DATES</strong></p></td><td style=\"width:124px;\"><p><strong>DAYS</strong></p></td><td style=\"width:390px;\"><p> </p></td></tr><tr><td style=\"width:134px;height:42px;\"><h3>August</h3></td><td style=\"width:124px;height:42px;\"> </td><td style=\"width:390px;height:42px;\"> </td></tr><tr><td style=\"width:134px;height:42px;\"><p>August 01</p></td><td style=\"width:124px;height:42px;\"><p>Wednesday</p></td><td style=\"width:390px;height:42px;\"><p>Application for degree for January and February 2019 begins;</p></td></tr><tr><td style=\"width:134px;height:22px;\"><p>August 20</p></td><td style=\"width:124px;height:22px;\"><p>Monday</p></td><td style=\"width:390px;height:22px;\"><p>Last day to apply for Study Abroad</p></td></tr><tr><td style=\"width:134px;height:59px;\"><p>August 26</p></td><td style=\"width:124px;height:59px;\"><p>Sunday</p></td><td style=\"width:390px;height:59px;\"><p>Last day of Registration;</p><p>Last day to file ePermit request for Fall 2018;</p></td></tr><tr><td style=\"width:134px;height:39px;\"><p><strong>August 27</strong></p></td><td style=\"width:124px;height:39px;\"><p><strong>Monday</strong></p></td><td style=\"width:390px;height:39px;\"><p><strong>Classes begin;</strong></p><p><strong>Initial Registration Appeals begin;</strong></p><p><strong>Last day to drop classes for 100% tuition refund;</strong></p><div> </div></td></tr><tr><td style=\"width:134px;height:39px;\"><p>August 27 –</p><p>September 02</p></td><td style=\"width:124px;height:39px;\"><p>Monday –</p><p>Sunday</p></td><td style=\"width:390px;height:39px;\"><p>Change of program period; late fees apply</p></td></tr><tr><td style=\"width:134px;height:22px;\"><p>August 28</p></td><td style=\"width:124px;height:22px;\"><p>Tuesday</p></td><td style=\"width:390px;height:22px;\"><p>Last day to submit a request for Independent Study</p></td></tr><tr><td style=\"width:134px;height:22px;\"><h3>September</h3></td><td style=\"width:124px;height:22px;\"> </td><td style=\"width:390px;height:22px;\"> </td></tr><tr><td style=\"width:134px;height:22px;\"><p>September 01</p></td><td style=\"width:124px;height:22px;\"><p>Saturday</p></td><td style=\"width:390px;height:22px;\"><p>First day of Saturday Classes</p></td></tr><tr><td style=\"width:134px;height:112px;\"><p>September 02</p></td><td style=\"width:124px;height:112px;\"><p>Sunday</p></td><td style=\"width:390px;height:112px;\"><p>Last day to add a class to an existing enrollment;</p><p>Last day for 75% tuition refund;</p><p>Financial Aid Certification Enrollment Status date;</p><p>Last day to apply for Audit option;</p><p>Last day to drop without the grade of WD;</p><p>Initial Registration Appeals end;</p></td></tr><tr><td style=\"width:134px;height:81px;\"><p><strong>September 03</strong></p></td><td style=\"width:124px;height:81px;\"><p><strong>Monday</strong></p></td><td style=\"width:390px;height:81px;\"><p><strong>Course Withdrawal drop period begins (A grade of “WD” is assigned to students who officially drop a class);</strong></p><p><strong>Verification of Enrollment Rosters available to faculty;</strong></p><p><strong>College Closed;</strong></p></td></tr><tr><td style=\"width:134px;height:22px;\"><p><strong>September 05</strong></p></td><td style=\"width:124px;height:22px;\"><p><b>Wednesday</b></p></td><td style=\"width:390px;height:22px;\"><p><strong>Classes follow a Monday schedule</strong></p></td></tr><tr><td style=\"width:134px;height:22px;\"><p>September 09</p></td><td style=\"width:124px;height:22px;\"><p>Sunday</p></td><td style=\"width:390px;height:22px;\"><p>Last day to drop for 50% tuition refund</p></td></tr><tr><td style=\"width:134px;height:42px;\"><p>September 10 –</p><p>September 11</p></td><td style=\"width:124px;height:42px;\"><p>Monday –Tuesday</p></td><td style=\"width:390px;height:42px;\"><p>No Classes scheduled</p></td></tr><tr><td style=\"width:134px;height:136px;\"><p><strong>September 16</strong></p></td><td style=\"width:124px;height:136px;\"><p><strong>Sunday</strong></p></td><td style=\"width:390px;height:136px;\"><p><strong>Last day for 25% tuition refund;</strong></p><p><strong>Census date – Form-A cutoff; </strong></p><p><strong>Last day to change or declare a major to be effective in Fall 2018;</strong></p><p><strong>Last day to drop without the grade of “W”;</strong></p><p><strong>Course withdrawal period ends (Last day for “WD” grades);</strong>  </p><p><strong>Verification of Enrollment Rosters Due from faculty;       </strong></p></td></tr><tr><td style=\"width:134px;height:76px;\"><p>September 17</p></td><td style=\"width:124px;height:76px;\"><p>Monday</p></td><td style=\"width:390px;height:76px;\"><p>Course withdrawal period begins (A grade of “W” is assigned to students who officially drop a class) – No Refund;</p><p>WN Grades assigned;</p></td></tr><tr><td style=\"width:134px;height:42px;\"><p>September 18 –</p><p>September 19</p></td><td style=\"width:124px;height:42px;\"><p>Tuesday –</p><p>Wednesday</p></td><td style=\"width:390px;height:42px;\"><p>No classes scheduled</p></td></tr><tr><td style=\"width:134px;height:42px;\">September 20</td><td style=\"width:124px;height:42px;\">Thursday</td><td style=\"width:390px;height:42px;\">Freshman Convocation</td></tr><tr><td style=\"width:134px;height:60px;\"><p>September 25</p></td><td style=\"width:124px;height:60px;\"><p>Tuesday</p></td><td style=\"width:390px;height:60px;\"><p>Last day to submit proof of immunization for NYS residents;</p><p>Assignment of “WN” grades for non-attendance;</p></td></tr><tr><td style=\"width:134px;height:40px;\"><p>September 26</p></td><td style=\"width:124px;height:40px;\"><p>Wednesday</p></td><td style=\"width:390px;height:40px;\"><p>Assignment of “WA” grades for immunization non-compliance</p></td></tr><tr><td style=\"width:134px;height:24px;\"><h3>October</h3></td><td style=\"width:124px;height:24px;\"> </td><td style=\"width:390px;height:24px;\"> </td></tr><tr><td style=\"width:134px;height:24px;\"><p><strong>October 08</strong></p></td><td style=\"width:124px;height:24px;\"><p><strong>Monday</strong></p></td><td style=\"width:390px;height:24px;\"><p><strong>College Closed</strong></p></td></tr><tr><td style=\"width:134px;height:78px;\"><p>October 12</p></td><td style=\"width:124px;height:78px;\"><p>Friday</p></td><td style=\"width:390px;height:78px;\"><p>Deadline for filing application for degree for January and February 2019;</p><p>Last day to submit proof of immunization for non-NYS residents;</p></td></tr><tr><td style=\"width:134px;height:77px;\"><h3>November</h3></td><td style=\"width:124px;height:77px;\"> </td><td style=\"width:390px;height:77px;\"> </td></tr><tr><td style=\"width:134px;height:77px;\"><p>November 01</p></td><td style=\"width:124px;height:77px;\"><p>Thursday</p></td><td style=\"width:390px;height:77px;\"><p>INC grades for Spring 2018 and Summer 2018 for Undergraduate students convert to FIN:</p><p>INC grades for Summer 2017 and Fall 2017 for Graduate students convert to FIN;</p></td></tr><tr><td style=\"width:134px;height:25px;\"><p>November 05</p></td><td style=\"width:124px;height:25px;\"><p>Monday</p></td><td style=\"width:390px;height:25px;\"><p>60% date of the term</p></td></tr><tr><td style=\"width:134px;height:58px;\"><p>November 06</p></td><td style=\"width:124px;height:58px;\"><p>Tuesday</p></td><td style=\"width:390px;height:58px;\"><p>Course withdrawal period ends.  Last day to withdraw from a class with the grade of “W”;</p><p>Last day to file for Pass/NC option;</p><p>Registration appointments for Winter and Spring 2019 begin for continuing students.  Check your CUNYFirst account for your appointment date and time;</p></td></tr><tr><td style=\"width:134px;height:34px;\"><p><strong>November 22 –</strong></p><p><strong>November 25</strong></p></td><td style=\"width:124px;height:34px;\"><p><strong>Thursday</strong> –</p><p><strong>Sunday</strong></p></td><td style=\"width:390px;height:34px;\"><p><strong>College Closed</strong></p></td></tr><tr><td style=\"width:134px;height:22px;\"><h3>December</h3></td><td style=\"width:124px;height:22px;\"> </td><td style=\"width:390px;height:22px;\"> </td></tr><tr><td style=\"width:134px;height:22px;\"><p><strong>December 08</strong></p></td><td style=\"width:124px;height:22px;\"><p><strong>Saturday</strong></p></td><td style=\"width:390px;height:22px;\"><p><strong>Last day of Saturday classes</strong></p></td></tr><tr><td style=\"width:134px;height:22px;\"><p><strong>December 12</strong></p></td><td style=\"width:124px;height:22px;\"><p><b>Wednesday</b></p></td><td style=\"width:390px;height:22px;\"><p><strong>Last day of Classes</strong></p></td></tr><tr><td style=\"width:134px;height:22px;\"><p><strong>December 13</strong></p></td><td style=\"width:124px;height:22px;\"><p><b>Thursday</b></p></td><td style=\"width:390px;height:22px;\"><p><strong>Reading Day </strong></p></td></tr><tr><td style=\"width:134px;height:20px;\"><p><strong>December 14</strong></p></td><td style=\"width:124px;height:20px;\"><p><b>Friday</b></p></td><td style=\"width:390px;height:20px;\"><p><strong>Reading Day / Final Examinations</strong></p></td></tr><tr><td style=\"width:134px;height:40px;\"><p><strong>December 15 –</strong></p><p><strong>December 16</strong></p></td><td style=\"width:124px;height:40px;\"><p><strong>Saturday</strong> –<strong> Sunday</strong></p></td><td style=\"width:390px;height:40px;\"><p><strong>Final Examinations – Weekend Classes </strong></p></td></tr><tr><td style=\"width:134px;height:40px;\"><p><strong>December 17 –</strong></p><p><strong>December 21</strong></p></td><td style=\"width:124px;height:40px;\"><p><strong>Monday – </strong></p><p><strong>Friday</strong></p></td><td style=\"width:390px;height:40px;\"><p><strong>Final Examinations – Day/Evening Classes</strong></p></td></tr><tr><td style=\"width:134px;height:22px;\"><p><strong>December 21</strong></p></td><td style=\"width:124px;height:22px;\"><p><strong>Friday</strong></p></td><td style=\"width:390px;height:22px;\"><p><strong>End of Term</strong></p></td></tr><tr><td style=\"width:134px;height:22px;\"><p><strong>December 24-25</strong></p></td><td style=\"width:124px;height:22px;\"><p><strong>Monday</strong> –<strong>Tuesday</strong></p></td><td style=\"width:390px;height:22px;\"><p><strong>College Closed</strong></p></td></tr><tr><td style=\"width:134px;height:22px;\"><p>December 28</p></td><td style=\"width:124px;height:22px;\"><p>Friday</p></td><td style=\"width:390px;height:22px;\"><p>Final Grade Submission Deadline</p></td></tr><tr><td style=\"width:134px;height:40px;\"><p><strong>December 31</strong></p></td><td style=\"width:124px;height:40px;\"><p><strong>Monday</strong></p></td><td style=\"width:390px;height:40px;\"><p><strong>College Closed</strong></p></td></tr><tr><td style=\"width:134px;height:22px;\"><h3>January</h3></td><td style=\"width:124px;height:22px;\"> </td><td style=\"width:390px;height:22px;\"> </td></tr><tr><td style=\"width:134px;height:22px;\"><p><strong>January 1, 2019</strong></p></td><td style=\"width:124px;height:22px;\"><p><strong>Tuesday</strong></p></td><td style=\"width:390px;height:22px;\"><p><strong>College Closed</strong></p></td></tr></tbody></table>"
      ],
      "text/plain": [
       "<IPython.core.display.HTML object>"
      ]
     },
     "execution_count": 8,
     "metadata": {},
     "output_type": "execute_result"
    }
   ],
   "source": [
    "HTML(str(all_tables[0]))"
   ]
  },
  {
   "cell_type": "code",
   "execution_count": 9,
   "metadata": {},
   "outputs": [],
   "source": [
    "rows = all_tables[0].find_all('tr')"
   ]
  },
  {
   "cell_type": "code",
   "execution_count": 10,
   "metadata": {},
   "outputs": [
    {
     "data": {
      "text/plain": [
       "<tr><td style=\"width:134px;\"><p><strong>DATES</strong></p></td><td style=\"width:124px;\"><p><strong>DAYS</strong></p></td><td style=\"width:390px;\"><p> </p></td></tr>"
      ]
     },
     "execution_count": 10,
     "metadata": {},
     "output_type": "execute_result"
    }
   ],
   "source": [
    "rows[0]"
   ]
  },
  {
   "cell_type": "code",
   "execution_count": 11,
   "metadata": {},
   "outputs": [
    {
     "data": {
      "text/plain": [
       "[<td style=\"width:134px;\"><p><strong>DATES</strong></p></td>,\n",
       " <td style=\"width:124px;\"><p><strong>DAYS</strong></p></td>,\n",
       " <td style=\"width:390px;\"><p> </p></td>]"
      ]
     },
     "execution_count": 11,
     "metadata": {},
     "output_type": "execute_result"
    }
   ],
   "source": [
    "rows[0].find_all('td')"
   ]
  },
  {
   "cell_type": "code",
   "execution_count": 12,
   "metadata": {},
   "outputs": [
    {
     "name": "stdout",
     "output_type": "stream",
     "text": [
      "DATES\n"
     ]
    }
   ],
   "source": [
    "print(rows[0].find_all('td')[0].text)"
   ]
  },
  {
   "cell_type": "code",
   "execution_count": 13,
   "metadata": {},
   "outputs": [],
   "source": [
    "col_heads = [head.text.strip() for head in rows[0].find_all('td')]"
   ]
  },
  {
   "cell_type": "code",
   "execution_count": 14,
   "metadata": {
    "scrolled": true
   },
   "outputs": [
    {
     "name": "stdout",
     "output_type": "stream",
     "text": [
      "['DATES', 'DAYS', '']\n"
     ]
    }
   ],
   "source": [
    "# print the col names find the html format\n",
    "\n",
    "print(col_heads)"
   ]
  },
  {
   "cell_type": "code",
   "execution_count": 15,
   "metadata": {},
   "outputs": [],
   "source": [
    "#replace the blank, add description\n",
    "\n",
    "col_heads = ['DATES', 'DAYS', 'DESCRIPTION']"
   ]
  },
  {
   "cell_type": "code",
   "execution_count": 16,
   "metadata": {},
   "outputs": [
    {
     "name": "stdout",
     "output_type": "stream",
     "text": [
      "['DATES', 'DAYS', 'DESCRIPTION']\n"
     ]
    }
   ],
   "source": [
    "# print new col names\n",
    "\n",
    "print(col_heads)"
   ]
  },
  {
   "cell_type": "code",
   "execution_count": 17,
   "metadata": {},
   "outputs": [
    {
     "data": {
      "text/plain": [
       "<tr><td style=\"width:134px;height:42px;\"><h3>August</h3></td><td style=\"width:124px;height:42px;\"> </td><td style=\"width:390px;height:42px;\"> </td></tr>"
      ]
     },
     "execution_count": 17,
     "metadata": {},
     "output_type": "execute_result"
    }
   ],
   "source": [
    "data_rows = rows[1:]\n",
    "data_rows[0]"
   ]
  },
  {
   "cell_type": "code",
   "execution_count": 18,
   "metadata": {},
   "outputs": [],
   "source": [
    "value_rows = [ [col.text.strip() for col in row.find_all('td')] for row in data_rows]"
   ]
  },
  {
   "cell_type": "code",
   "execution_count": 19,
   "metadata": {},
   "outputs": [
    {
     "name": "stdout",
     "output_type": "stream",
     "text": [
      "['August', '', '']\n"
     ]
    }
   ],
   "source": [
    "# print values of first row \n",
    "\n",
    "print(value_rows[0])"
   ]
  },
  {
   "cell_type": "code",
   "execution_count": 20,
   "metadata": {},
   "outputs": [
    {
     "name": "stdout",
     "output_type": "stream",
     "text": [
      "['August 01', 'Wednesday', 'Application for degree for January and February 2019 begins;']\n"
     ]
    }
   ],
   "source": [
    "#print values of seconed row\n",
    "\n",
    "print(value_rows[1])"
   ]
  },
  {
   "cell_type": "code",
   "execution_count": 21,
   "metadata": {},
   "outputs": [],
   "source": [
    "# creat empty list, and replace if clo 2 and clo 3 is empty\n",
    "\n",
    "replace = []\n",
    "for row in value_rows:\n",
    "    if row[1] != '':\n",
    "        if row[2] != '':\n",
    "            replace.append(row)"
   ]
  },
  {
   "cell_type": "code",
   "execution_count": 22,
   "metadata": {},
   "outputs": [],
   "source": [
    "series_list = list(zip(*replace))"
   ]
  },
  {
   "cell_type": "code",
   "execution_count": 23,
   "metadata": {
    "scrolled": true
   },
   "outputs": [
    {
     "name": "stdout",
     "output_type": "stream",
     "text": [
      "[('August 01', 'August 20', 'August 26', 'August 27', 'August 27 –September 02', 'August 28', 'September 01', 'September 02', 'September 03', 'September 05', 'September 09', 'September 10 –September 11', 'September 16', 'September 17', 'September 18 –September 19', 'September 20', 'September 25', 'September 26', 'October 08', 'October 12', 'November 01', 'November 05', 'November 06', 'November 22 –November 25', 'December 08', 'December 12', 'December 13', 'December 14', 'December 15 –December 16', 'December 17 –December 21', 'December 21', 'December 24-25', 'December 28', 'December 31', 'January 1, 2019'), ('Wednesday', 'Monday', 'Sunday', 'Monday', 'Monday –Sunday', 'Tuesday', 'Saturday', 'Sunday', 'Monday', 'Wednesday', 'Sunday', 'Monday –Tuesday', 'Sunday', 'Monday', 'Tuesday –Wednesday', 'Thursday', 'Tuesday', 'Wednesday', 'Monday', 'Friday', 'Thursday', 'Monday', 'Tuesday', 'Thursday –Sunday', 'Saturday', 'Wednesday', 'Thursday', 'Friday', 'Saturday – Sunday', 'Monday – Friday', 'Friday', 'Monday –Tuesday', 'Friday', 'Monday', 'Tuesday'), ('Application for degree for January and February 2019 begins;', 'Last day to apply for Study Abroad', 'Last day of Registration;Last day to file ePermit request for Fall 2018;', 'Classes begin;Initial Registration Appeals begin;Last day to drop classes for 100% tuition refund;', 'Change of program period; late fees apply', 'Last day to submit a request for Independent Study', 'First day of Saturday Classes', 'Last day to add a class to an existing enrollment;Last day for 75% tuition refund;Financial Aid Certification Enrollment Status date;Last day to apply for Audit option;Last day to drop without the grade of WD;Initial Registration Appeals end;', 'Course Withdrawal drop period begins (A grade of “WD” is assigned to students who officially drop a class);Verification of Enrollment Rosters available to faculty;College Closed;', 'Classes follow a Monday schedule', 'Last day to drop for 50% tuition refund', 'No Classes scheduled', 'Last day for 25% tuition refund;Census date – Form-A cutoff; Last day to change or declare a major to be effective in Fall 2018;Last day to drop without the grade of “W”;Course withdrawal period ends (Last day for “WD” grades);\\xa0\\xa0Verification of Enrollment Rosters Due from faculty;', 'Course withdrawal period begins (A grade of “W” is assigned to students who officially drop a class) – No Refund;WN Grades assigned;', 'No classes scheduled', 'Freshman Convocation', 'Last day to submit proof of immunization for NYS residents;Assignment of “WN” grades for non-attendance;', 'Assignment of “WA” grades for immunization non-compliance', 'College Closed', 'Deadline for filing application for degree for January and February 2019;Last day to submit proof of immunization for non-NYS residents;', 'INC grades for Spring 2018 and Summer 2018 for Undergraduate students convert to FIN:INC grades for Summer 2017 and Fall 2017 for Graduate students convert to FIN;', '60% date of the term', 'Course withdrawal period ends.\\xa0 Last day to withdraw from a class with the grade of “W”;Last day to file for Pass/NC option;Registration appointments for Winter and Spring 2019 begin for continuing students.\\xa0 Check your CUNYFirst account for your appointment date and time;', 'College Closed', 'Last day of Saturday classes', 'Last day of Classes', 'Reading Day', 'Reading Day / Final Examinations', 'Final Examinations – Weekend Classes', 'Final Examinations – Day/Evening Classes', 'End of Term', 'College Closed', 'Final Grade Submission Deadline', 'College Closed', 'College Closed')]\n"
     ]
    }
   ],
   "source": [
    "print(series_list)"
   ]
  },
  {
   "cell_type": "code",
   "execution_count": null,
   "metadata": {},
   "outputs": [],
   "source": []
  },
  {
   "cell_type": "code",
   "execution_count": 24,
   "metadata": {},
   "outputs": [],
   "source": [
    " df = pd.DataFrame(dict(zip(col_heads,series_list)))"
   ]
  },
  {
   "cell_type": "code",
   "execution_count": 25,
   "metadata": {},
   "outputs": [
    {
     "data": {
      "text/html": [
       "<div>\n",
       "<style scoped>\n",
       "    .dataframe tbody tr th:only-of-type {\n",
       "        vertical-align: middle;\n",
       "    }\n",
       "\n",
       "    .dataframe tbody tr th {\n",
       "        vertical-align: top;\n",
       "    }\n",
       "\n",
       "    .dataframe thead th {\n",
       "        text-align: right;\n",
       "    }\n",
       "</style>\n",
       "<table border=\"1\" class=\"dataframe\">\n",
       "  <thead>\n",
       "    <tr style=\"text-align: right;\">\n",
       "      <th></th>\n",
       "      <th>DATES</th>\n",
       "      <th>DAYS</th>\n",
       "      <th>DESCRIPTION</th>\n",
       "    </tr>\n",
       "  </thead>\n",
       "  <tbody>\n",
       "    <tr>\n",
       "      <th>0</th>\n",
       "      <td>August 01</td>\n",
       "      <td>Wednesday</td>\n",
       "      <td>Application for degree for January and Februar...</td>\n",
       "    </tr>\n",
       "    <tr>\n",
       "      <th>1</th>\n",
       "      <td>August 20</td>\n",
       "      <td>Monday</td>\n",
       "      <td>Last day to apply for Study Abroad</td>\n",
       "    </tr>\n",
       "    <tr>\n",
       "      <th>2</th>\n",
       "      <td>August 26</td>\n",
       "      <td>Sunday</td>\n",
       "      <td>Last day of Registration;Last day to file ePer...</td>\n",
       "    </tr>\n",
       "    <tr>\n",
       "      <th>3</th>\n",
       "      <td>August 27</td>\n",
       "      <td>Monday</td>\n",
       "      <td>Classes begin;Initial Registration Appeals beg...</td>\n",
       "    </tr>\n",
       "    <tr>\n",
       "      <th>4</th>\n",
       "      <td>August 27 –September 02</td>\n",
       "      <td>Monday –Sunday</td>\n",
       "      <td>Change of program period; late fees apply</td>\n",
       "    </tr>\n",
       "    <tr>\n",
       "      <th>5</th>\n",
       "      <td>August 28</td>\n",
       "      <td>Tuesday</td>\n",
       "      <td>Last day to submit a request for Independent S...</td>\n",
       "    </tr>\n",
       "    <tr>\n",
       "      <th>6</th>\n",
       "      <td>September 01</td>\n",
       "      <td>Saturday</td>\n",
       "      <td>First day of Saturday Classes</td>\n",
       "    </tr>\n",
       "    <tr>\n",
       "      <th>7</th>\n",
       "      <td>September 02</td>\n",
       "      <td>Sunday</td>\n",
       "      <td>Last day to add a class to an existing enrollm...</td>\n",
       "    </tr>\n",
       "    <tr>\n",
       "      <th>8</th>\n",
       "      <td>September 03</td>\n",
       "      <td>Monday</td>\n",
       "      <td>Course Withdrawal drop period begins (A grade ...</td>\n",
       "    </tr>\n",
       "    <tr>\n",
       "      <th>9</th>\n",
       "      <td>September 05</td>\n",
       "      <td>Wednesday</td>\n",
       "      <td>Classes follow a Monday schedule</td>\n",
       "    </tr>\n",
       "    <tr>\n",
       "      <th>10</th>\n",
       "      <td>September 09</td>\n",
       "      <td>Sunday</td>\n",
       "      <td>Last day to drop for 50% tuition refund</td>\n",
       "    </tr>\n",
       "    <tr>\n",
       "      <th>11</th>\n",
       "      <td>September 10 –September 11</td>\n",
       "      <td>Monday –Tuesday</td>\n",
       "      <td>No Classes scheduled</td>\n",
       "    </tr>\n",
       "    <tr>\n",
       "      <th>12</th>\n",
       "      <td>September 16</td>\n",
       "      <td>Sunday</td>\n",
       "      <td>Last day for 25% tuition refund;Census date – ...</td>\n",
       "    </tr>\n",
       "    <tr>\n",
       "      <th>13</th>\n",
       "      <td>September 17</td>\n",
       "      <td>Monday</td>\n",
       "      <td>Course withdrawal period begins (A grade of “W...</td>\n",
       "    </tr>\n",
       "    <tr>\n",
       "      <th>14</th>\n",
       "      <td>September 18 –September 19</td>\n",
       "      <td>Tuesday –Wednesday</td>\n",
       "      <td>No classes scheduled</td>\n",
       "    </tr>\n",
       "    <tr>\n",
       "      <th>15</th>\n",
       "      <td>September 20</td>\n",
       "      <td>Thursday</td>\n",
       "      <td>Freshman Convocation</td>\n",
       "    </tr>\n",
       "    <tr>\n",
       "      <th>16</th>\n",
       "      <td>September 25</td>\n",
       "      <td>Tuesday</td>\n",
       "      <td>Last day to submit proof of immunization for N...</td>\n",
       "    </tr>\n",
       "    <tr>\n",
       "      <th>17</th>\n",
       "      <td>September 26</td>\n",
       "      <td>Wednesday</td>\n",
       "      <td>Assignment of “WA” grades for immunization non...</td>\n",
       "    </tr>\n",
       "    <tr>\n",
       "      <th>18</th>\n",
       "      <td>October 08</td>\n",
       "      <td>Monday</td>\n",
       "      <td>College Closed</td>\n",
       "    </tr>\n",
       "    <tr>\n",
       "      <th>19</th>\n",
       "      <td>October 12</td>\n",
       "      <td>Friday</td>\n",
       "      <td>Deadline for filing application for degree for...</td>\n",
       "    </tr>\n",
       "    <tr>\n",
       "      <th>20</th>\n",
       "      <td>November 01</td>\n",
       "      <td>Thursday</td>\n",
       "      <td>INC grades for Spring 2018 and Summer 2018 for...</td>\n",
       "    </tr>\n",
       "    <tr>\n",
       "      <th>21</th>\n",
       "      <td>November 05</td>\n",
       "      <td>Monday</td>\n",
       "      <td>60% date of the term</td>\n",
       "    </tr>\n",
       "    <tr>\n",
       "      <th>22</th>\n",
       "      <td>November 06</td>\n",
       "      <td>Tuesday</td>\n",
       "      <td>Course withdrawal period ends.  Last day to wi...</td>\n",
       "    </tr>\n",
       "    <tr>\n",
       "      <th>23</th>\n",
       "      <td>November 22 –November 25</td>\n",
       "      <td>Thursday –Sunday</td>\n",
       "      <td>College Closed</td>\n",
       "    </tr>\n",
       "    <tr>\n",
       "      <th>24</th>\n",
       "      <td>December 08</td>\n",
       "      <td>Saturday</td>\n",
       "      <td>Last day of Saturday classes</td>\n",
       "    </tr>\n",
       "    <tr>\n",
       "      <th>25</th>\n",
       "      <td>December 12</td>\n",
       "      <td>Wednesday</td>\n",
       "      <td>Last day of Classes</td>\n",
       "    </tr>\n",
       "    <tr>\n",
       "      <th>26</th>\n",
       "      <td>December 13</td>\n",
       "      <td>Thursday</td>\n",
       "      <td>Reading Day</td>\n",
       "    </tr>\n",
       "    <tr>\n",
       "      <th>27</th>\n",
       "      <td>December 14</td>\n",
       "      <td>Friday</td>\n",
       "      <td>Reading Day / Final Examinations</td>\n",
       "    </tr>\n",
       "    <tr>\n",
       "      <th>28</th>\n",
       "      <td>December 15 –December 16</td>\n",
       "      <td>Saturday – Sunday</td>\n",
       "      <td>Final Examinations – Weekend Classes</td>\n",
       "    </tr>\n",
       "    <tr>\n",
       "      <th>29</th>\n",
       "      <td>December 17 –December 21</td>\n",
       "      <td>Monday – Friday</td>\n",
       "      <td>Final Examinations – Day/Evening Classes</td>\n",
       "    </tr>\n",
       "    <tr>\n",
       "      <th>30</th>\n",
       "      <td>December 21</td>\n",
       "      <td>Friday</td>\n",
       "      <td>End of Term</td>\n",
       "    </tr>\n",
       "    <tr>\n",
       "      <th>31</th>\n",
       "      <td>December 24-25</td>\n",
       "      <td>Monday –Tuesday</td>\n",
       "      <td>College Closed</td>\n",
       "    </tr>\n",
       "    <tr>\n",
       "      <th>32</th>\n",
       "      <td>December 28</td>\n",
       "      <td>Friday</td>\n",
       "      <td>Final Grade Submission Deadline</td>\n",
       "    </tr>\n",
       "    <tr>\n",
       "      <th>33</th>\n",
       "      <td>December 31</td>\n",
       "      <td>Monday</td>\n",
       "      <td>College Closed</td>\n",
       "    </tr>\n",
       "    <tr>\n",
       "      <th>34</th>\n",
       "      <td>January 1, 2019</td>\n",
       "      <td>Tuesday</td>\n",
       "      <td>College Closed</td>\n",
       "    </tr>\n",
       "  </tbody>\n",
       "</table>\n",
       "</div>"
      ],
      "text/plain": [
       "                         DATES                DAYS  \\\n",
       "0                    August 01           Wednesday   \n",
       "1                    August 20              Monday   \n",
       "2                    August 26              Sunday   \n",
       "3                    August 27              Monday   \n",
       "4      August 27 –September 02      Monday –Sunday   \n",
       "5                    August 28             Tuesday   \n",
       "6                 September 01            Saturday   \n",
       "7                 September 02              Sunday   \n",
       "8                 September 03              Monday   \n",
       "9                 September 05           Wednesday   \n",
       "10                September 09              Sunday   \n",
       "11  September 10 –September 11     Monday –Tuesday   \n",
       "12                September 16              Sunday   \n",
       "13                September 17              Monday   \n",
       "14  September 18 –September 19  Tuesday –Wednesday   \n",
       "15                September 20            Thursday   \n",
       "16                September 25             Tuesday   \n",
       "17                September 26           Wednesday   \n",
       "18                  October 08              Monday   \n",
       "19                  October 12              Friday   \n",
       "20                 November 01            Thursday   \n",
       "21                 November 05              Monday   \n",
       "22                 November 06             Tuesday   \n",
       "23    November 22 –November 25    Thursday –Sunday   \n",
       "24                 December 08            Saturday   \n",
       "25                 December 12           Wednesday   \n",
       "26                 December 13            Thursday   \n",
       "27                 December 14              Friday   \n",
       "28    December 15 –December 16   Saturday – Sunday   \n",
       "29    December 17 –December 21     Monday – Friday   \n",
       "30                 December 21              Friday   \n",
       "31              December 24-25     Monday –Tuesday   \n",
       "32                 December 28              Friday   \n",
       "33                 December 31              Monday   \n",
       "34             January 1, 2019             Tuesday   \n",
       "\n",
       "                                          DESCRIPTION  \n",
       "0   Application for degree for January and Februar...  \n",
       "1                  Last day to apply for Study Abroad  \n",
       "2   Last day of Registration;Last day to file ePer...  \n",
       "3   Classes begin;Initial Registration Appeals beg...  \n",
       "4           Change of program period; late fees apply  \n",
       "5   Last day to submit a request for Independent S...  \n",
       "6                       First day of Saturday Classes  \n",
       "7   Last day to add a class to an existing enrollm...  \n",
       "8   Course Withdrawal drop period begins (A grade ...  \n",
       "9                    Classes follow a Monday schedule  \n",
       "10            Last day to drop for 50% tuition refund  \n",
       "11                               No Classes scheduled  \n",
       "12  Last day for 25% tuition refund;Census date – ...  \n",
       "13  Course withdrawal period begins (A grade of “W...  \n",
       "14                               No classes scheduled  \n",
       "15                               Freshman Convocation  \n",
       "16  Last day to submit proof of immunization for N...  \n",
       "17  Assignment of “WA” grades for immunization non...  \n",
       "18                                     College Closed  \n",
       "19  Deadline for filing application for degree for...  \n",
       "20  INC grades for Spring 2018 and Summer 2018 for...  \n",
       "21                               60% date of the term  \n",
       "22  Course withdrawal period ends.  Last day to wi...  \n",
       "23                                     College Closed  \n",
       "24                       Last day of Saturday classes  \n",
       "25                                Last day of Classes  \n",
       "26                                        Reading Day  \n",
       "27                   Reading Day / Final Examinations  \n",
       "28               Final Examinations – Weekend Classes  \n",
       "29           Final Examinations – Day/Evening Classes  \n",
       "30                                        End of Term  \n",
       "31                                     College Closed  \n",
       "32                    Final Grade Submission Deadline  \n",
       "33                                     College Closed  \n",
       "34                                     College Closed  "
      ]
     },
     "execution_count": 25,
     "metadata": {},
     "output_type": "execute_result"
    }
   ],
   "source": [
    "df"
   ]
  },
  {
   "cell_type": "code",
   "execution_count": 26,
   "metadata": {},
   "outputs": [
    {
     "data": {
      "text/html": [
       "<div>\n",
       "<style scoped>\n",
       "    .dataframe tbody tr th:only-of-type {\n",
       "        vertical-align: middle;\n",
       "    }\n",
       "\n",
       "    .dataframe tbody tr th {\n",
       "        vertical-align: top;\n",
       "    }\n",
       "\n",
       "    .dataframe thead th {\n",
       "        text-align: right;\n",
       "    }\n",
       "</style>\n",
       "<table border=\"1\" class=\"dataframe\">\n",
       "  <thead>\n",
       "    <tr style=\"text-align: right;\">\n",
       "      <th></th>\n",
       "      <th>DATES</th>\n",
       "      <th>DAYS</th>\n",
       "      <th>DESCRIPTION</th>\n",
       "    </tr>\n",
       "  </thead>\n",
       "  <tbody>\n",
       "    <tr>\n",
       "      <th>0</th>\n",
       "      <td>August 01</td>\n",
       "      <td>Wednesday</td>\n",
       "      <td>Application for degree for January and Februar...</td>\n",
       "    </tr>\n",
       "    <tr>\n",
       "      <th>1</th>\n",
       "      <td>August 20</td>\n",
       "      <td>Monday</td>\n",
       "      <td>Last day to apply for Study Abroad</td>\n",
       "    </tr>\n",
       "    <tr>\n",
       "      <th>2</th>\n",
       "      <td>August 26</td>\n",
       "      <td>Sunday</td>\n",
       "      <td>Last day of Registration;Last day to file ePer...</td>\n",
       "    </tr>\n",
       "    <tr>\n",
       "      <th>3</th>\n",
       "      <td>August 27</td>\n",
       "      <td>Monday</td>\n",
       "      <td>Classes begin;Initial Registration Appeals beg...</td>\n",
       "    </tr>\n",
       "    <tr>\n",
       "      <th>4</th>\n",
       "      <td>August 27 –September 02</td>\n",
       "      <td>Monday –Sunday</td>\n",
       "      <td>Change of program period; late fees apply</td>\n",
       "    </tr>\n",
       "  </tbody>\n",
       "</table>\n",
       "</div>"
      ],
      "text/plain": [
       "                     DATES            DAYS  \\\n",
       "0                August 01       Wednesday   \n",
       "1                August 20          Monday   \n",
       "2                August 26          Sunday   \n",
       "3                August 27          Monday   \n",
       "4  August 27 –September 02  Monday –Sunday   \n",
       "\n",
       "                                         DESCRIPTION  \n",
       "0  Application for degree for January and Februar...  \n",
       "1                 Last day to apply for Study Abroad  \n",
       "2  Last day of Registration;Last day to file ePer...  \n",
       "3  Classes begin;Initial Registration Appeals beg...  \n",
       "4          Change of program period; late fees apply  "
      ]
     },
     "execution_count": 26,
     "metadata": {},
     "output_type": "execute_result"
    }
   ],
   "source": [
    "df.head()"
   ]
  },
  {
   "cell_type": "code",
   "execution_count": 27,
   "metadata": {},
   "outputs": [
    {
     "data": {
      "text/html": [
       "<div>\n",
       "<style scoped>\n",
       "    .dataframe tbody tr th:only-of-type {\n",
       "        vertical-align: middle;\n",
       "    }\n",
       "\n",
       "    .dataframe tbody tr th {\n",
       "        vertical-align: top;\n",
       "    }\n",
       "\n",
       "    .dataframe thead th {\n",
       "        text-align: right;\n",
       "    }\n",
       "</style>\n",
       "<table border=\"1\" class=\"dataframe\">\n",
       "  <thead>\n",
       "    <tr style=\"text-align: right;\">\n",
       "      <th></th>\n",
       "      <th>DATES</th>\n",
       "      <th>DAYS</th>\n",
       "      <th>DESCRIPTION</th>\n",
       "    </tr>\n",
       "  </thead>\n",
       "  <tbody>\n",
       "    <tr>\n",
       "      <th>30</th>\n",
       "      <td>December 21</td>\n",
       "      <td>Friday</td>\n",
       "      <td>End of Term</td>\n",
       "    </tr>\n",
       "    <tr>\n",
       "      <th>31</th>\n",
       "      <td>December 24-25</td>\n",
       "      <td>Monday –Tuesday</td>\n",
       "      <td>College Closed</td>\n",
       "    </tr>\n",
       "    <tr>\n",
       "      <th>32</th>\n",
       "      <td>December 28</td>\n",
       "      <td>Friday</td>\n",
       "      <td>Final Grade Submission Deadline</td>\n",
       "    </tr>\n",
       "    <tr>\n",
       "      <th>33</th>\n",
       "      <td>December 31</td>\n",
       "      <td>Monday</td>\n",
       "      <td>College Closed</td>\n",
       "    </tr>\n",
       "    <tr>\n",
       "      <th>34</th>\n",
       "      <td>January 1, 2019</td>\n",
       "      <td>Tuesday</td>\n",
       "      <td>College Closed</td>\n",
       "    </tr>\n",
       "  </tbody>\n",
       "</table>\n",
       "</div>"
      ],
      "text/plain": [
       "              DATES             DAYS                      DESCRIPTION\n",
       "30      December 21           Friday                      End of Term\n",
       "31   December 24-25  Monday –Tuesday                   College Closed\n",
       "32      December 28           Friday  Final Grade Submission Deadline\n",
       "33      December 31           Monday                   College Closed\n",
       "34  January 1, 2019          Tuesday                   College Closed"
      ]
     },
     "execution_count": 27,
     "metadata": {},
     "output_type": "execute_result"
    }
   ],
   "source": [
    "df.tail()"
   ]
  }
 ],
 "metadata": {
  "kernelspec": {
   "display_name": "Python 3",
   "language": "python",
   "name": "python3"
  },
  "language_info": {
   "codemirror_mode": {
    "name": "ipython",
    "version": 3
   },
   "file_extension": ".py",
   "mimetype": "text/x-python",
   "name": "python",
   "nbconvert_exporter": "python",
   "pygments_lexer": "ipython3",
   "version": "3.7.3"
  }
 },
 "nbformat": 4,
 "nbformat_minor": 2
}
